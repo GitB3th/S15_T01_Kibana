{
 "cells": [
  {
   "cell_type": "markdown",
   "id": "4fa9ee5e",
   "metadata": {},
   "source": [
    "# S15_T01_Kibana\n",
    "\n",
    "\n",
    "### Ex1: Descarrega't Kibana i mostra algunes gràfiques utilitzant conjunts de dades d'Exemple"
   ]
  },
  {
   "cell_type": "code",
   "execution_count": 1,
   "id": "9d89d492",
   "metadata": {
    "ExecuteTime": {
     "end_time": "2022-07-07T10:04:11.479755Z",
     "start_time": "2022-07-07T10:04:11.460811Z"
    }
   },
   "outputs": [],
   "source": [
    "#primer he descarregat ElasticSearch, i desprès executat Kibana\n",
    "#necessitem el password que ens donen per l'usuari elastic a l'executar Elasticsearch el primer cop per poder obrir Kiban"
   ]
  },
  {
   "cell_type": "markdown",
   "id": "1fd878ff",
   "metadata": {},
   "source": [
    "<img src = \"AvgPreuBillet.jpg\">"
   ]
  },
  {
   "cell_type": "code",
   "execution_count": null,
   "id": "617dba94",
   "metadata": {},
   "outputs": [],
   "source": [
    "<img src = \"kibana_dashboard.jpg\">"
   ]
  },
  {
   "cell_type": "markdown",
   "id": "181f3ff2",
   "metadata": {},
   "source": [
    "### Ex2:Implementa un dashboard que visualitzi interactivament les dades que triïs"
   ]
  },
  {
   "cell_type": "code",
   "execution_count": 6,
   "id": "88d59650",
   "metadata": {
    "ExecuteTime": {
     "end_time": "2022-07-08T20:00:22.365369Z",
     "start_time": "2022-07-08T20:00:21.313324Z"
    }
   },
   "outputs": [],
   "source": [
    "#dashboard creat com a dashboard Dashb_Beth, adjunto 2 imatges de la pantalla del dashboard\n",
    "#amb diferents gràfics i 3 controls , i en el gràfic lineal he afegit un drilldown per obrir en Discover"
   ]
  },
  {
   "cell_type": "markdown",
   "id": "e7db72db",
   "metadata": {},
   "source": [
    "<img src = \"Dashb_Beth.jpg\">"
   ]
  },
  {
   "cell_type": "markdown",
   "id": "699f995a",
   "metadata": {},
   "source": [
    "<img src = \"Dashb_Beth_2.jpg\">"
   ]
  },
  {
   "attachments": {},
   "cell_type": "markdown",
   "id": "40440573",
   "metadata": {},
   "source": [
    "<img src = \"drilldown.jpg\">"
   ]
  },
  {
   "cell_type": "markdown",
   "id": "70b99526",
   "metadata": {
    "ExecuteTime": {
     "end_time": "2022-07-08T20:07:05.773764Z",
     "start_time": "2022-07-08T20:07:05.472711Z"
    }
   },
   "source": [
    "<img src = \"drilldown_discover.jpg\">"
   ]
  },
  {
   "cell_type": "code",
   "execution_count": null,
   "id": "573ef104",
   "metadata": {},
   "outputs": [],
   "source": [
    "#Afegint integration a elasticsearch: Elasticsearch Python Client i comprovant que ens podem connectar \n",
    "#a python!\n",
    "#instalat Elasticsearch Python Client\n",
    "#connexió i creció del client: fem sevir la opció de verify_certs = False, que encara q no és recomanable\n",
    "#per temes de seguretat, en el nostre cas per fer la prova de connexió ens funciona\n",
    "#he provat abans amb la cert_fingerprint però em donava un error de que el fingerprint esperat era un altre!"
   ]
  },
  {
   "cell_type": "code",
   "execution_count": 2,
   "id": "abcca964",
   "metadata": {
    "ExecuteTime": {
     "end_time": "2022-07-08T10:02:38.953598Z",
     "start_time": "2022-07-08T10:02:37.698866Z"
    }
   },
   "outputs": [],
   "source": [
    "from elasticsearch import Elasticsearch"
   ]
  },
  {
   "cell_type": "code",
   "execution_count": 3,
   "id": "0e7401cf",
   "metadata": {
    "ExecuteTime": {
     "end_time": "2022-07-08T10:02:39.434459Z",
     "start_time": "2022-07-08T10:02:39.427476Z"
    }
   },
   "outputs": [],
   "source": [
    "CERT_FINGERPRINT = \"b'a575274472786549d1e2127433dca66c76b6da05fcba8614086a8be2b26f753e'\"\n",
    "ELASTIC_PASSWORD = \"h79cM79YcCCFYyM6-nz+\""
   ]
  },
  {
   "cell_type": "code",
   "execution_count": 4,
   "id": "cdc6b6f4",
   "metadata": {
    "ExecuteTime": {
     "end_time": "2022-07-08T10:02:42.401872Z",
     "start_time": "2022-07-08T10:02:41.994668Z"
    }
   },
   "outputs": [
    {
     "name": "stderr",
     "output_type": "stream",
     "text": [
      "C:\\Users\\Beth\\anaconda3\\lib\\site-packages\\elasticsearch\\_sync\\client\\__init__.py:395: SecurityWarning: Connecting to 'https://localhost:9200' using TLS with verify_certs=False is insecure\n",
      "  _transport = transport_class(\n"
     ]
    }
   ],
   "source": [
    "# Create the client instance\n",
    "client = Elasticsearch(\n",
    "    \"https://localhost:9200\",\n",
    "    verify_certs = False,\n",
    "    basic_auth=(\"elastic\", ELASTIC_PASSWORD)\n",
    ")"
   ]
  },
  {
   "cell_type": "code",
   "execution_count": 5,
   "id": "e7dae29b",
   "metadata": {
    "ExecuteTime": {
     "end_time": "2022-07-08T10:02:57.428019Z",
     "start_time": "2022-07-08T10:02:57.129742Z"
    }
   },
   "outputs": [
    {
     "name": "stderr",
     "output_type": "stream",
     "text": [
      "C:\\Users\\Beth\\anaconda3\\lib\\site-packages\\urllib3\\connectionpool.py:1013: InsecureRequestWarning: Unverified HTTPS request is being made to host 'localhost'. Adding certificate verification is strongly advised. See: https://urllib3.readthedocs.io/en/1.26.x/advanced-usage.html#ssl-warnings\n",
      "  warnings.warn(\n"
     ]
    },
    {
     "data": {
      "text/plain": [
       "ObjectApiResponse({'name': 'LAPTOP-0SFR3QN7', 'cluster_name': 'elasticsearch', 'cluster_uuid': 'SnL874xNRbaiOQOITo-UCA', 'version': {'number': '8.3.1', 'build_type': 'zip', 'build_hash': 'b9a6b2867996ba92ceac66cb5bafc6db25e7910e', 'build_date': '2022-06-29T18:39:55.731992798Z', 'build_snapshot': False, 'lucene_version': '9.2.0', 'minimum_wire_compatibility_version': '7.17.0', 'minimum_index_compatibility_version': '7.0.0'}, 'tagline': 'You Know, for Search'})"
      ]
     },
     "execution_count": 5,
     "metadata": {},
     "output_type": "execute_result"
    }
   ],
   "source": [
    "client.info()"
   ]
  },
  {
   "cell_type": "markdown",
   "id": "29f92d9e",
   "metadata": {},
   "source": [
    "### Ex3:Implementa un dashboard que generi gràfics utilitzant cadascun dels diferents tipus de gràfics que ofereix Kibana"
   ]
  },
  {
   "cell_type": "code",
   "execution_count": null,
   "id": "3983d055",
   "metadata": {},
   "outputs": [],
   "source": []
  }
 ],
 "metadata": {
  "kernelspec": {
   "display_name": "Python 3 (ipykernel)",
   "language": "python",
   "name": "python3"
  },
  "language_info": {
   "codemirror_mode": {
    "name": "ipython",
    "version": 3
   },
   "file_extension": ".py",
   "mimetype": "text/x-python",
   "name": "python",
   "nbconvert_exporter": "python",
   "pygments_lexer": "ipython3",
   "version": "3.9.7"
  },
  "latex_envs": {
   "LaTeX_envs_menu_present": true,
   "autoclose": false,
   "autocomplete": true,
   "bibliofile": "biblio.bib",
   "cite_by": "apalike",
   "current_citInitial": 1,
   "eqLabelWithNumbers": true,
   "eqNumInitial": 1,
   "hotkeys": {
    "equation": "Ctrl-E",
    "itemize": "Ctrl-I"
   },
   "labels_anchors": false,
   "latex_user_defs": false,
   "report_style_numbering": false,
   "user_envs_cfg": false
  }
 },
 "nbformat": 4,
 "nbformat_minor": 5
}
